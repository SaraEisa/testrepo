{
  "metadata": {
    "kernelspec": {
      "name": "python",
      "display_name": "Python (Pyodide)",
      "language": "python"
    },
    "language_info": {
      "codemirror_mode": {
        "name": "python",
        "version": 3
      },
      "file_extension": ".py",
      "mimetype": "text/x-python",
      "name": "python",
      "nbconvert_exporter": "python",
      "pygments_lexer": "ipython3",
      "version": "3.8"
    }
  },
  "nbformat_minor": 4,
  "nbformat": 4,
  "cells": [
    {
      "cell_type": "markdown",
      "source": "# Data Science Tools and Ecosystem",
      "metadata": {}
    },
    {
      "cell_type": "markdown",
      "source": "# In this notebook, Data Science Tools and Ecosystem are summarize",
      "metadata": {}
    },
    {
      "cell_type": "markdown",
      "source": "# **Objectives:**\n- List popular languages for Data Science\n- List commonly used libraries used by Data Scientists\n- Table Data Science Tools\n- Introducing arithmetic expression\n- Expression multiply and add\n- Expression convert minutes to hours",
      "metadata": {}
    },
    {
      "cell_type": "markdown",
      "source": "# Some of the popular languages that Data Scienctist use are:\n1. Python\n2. SQL\n3. R\n4. TensorFlow\n5. Apache Spark\n6. Apache Hadoop",
      "metadata": {}
    },
    {
      "cell_type": "markdown",
      "source": "# Some Of the commonly used libraries used by Data Scienctists include:\n1. NumPy\n2. Pandas\n3. Matplotlib\n4. Plotly\n5. Scikit_Learn\n6. PyTorch",
      "metadata": {}
    },
    {
      "cell_type": "markdown",
      "source": "#\n| Data Science Tools |\n| ------------------- |\n| Jupyter Notebooks |\n| RStudio |\n| Pytorch |",
      "metadata": {}
    },
    {
      "cell_type": "markdown",
      "source": "### Below are a few examples of evaluting arithmetic expressions in Python",
      "metadata": {}
    },
    {
      "cell_type": "code",
      "source": "# This a simple arithmetic expression to mtiply then add integers\n(3*4)+5",
      "metadata": {
        "trusted": true
      },
      "outputs": [
        {
          "execution_count": 2,
          "output_type": "execute_result",
          "data": {
            "text/plain": "17"
          },
          "metadata": {}
        }
      ],
      "execution_count": 2
    },
    {
      "cell_type": "code",
      "source": "# This will convert 200 minutes to hours by diving by 60\n200/60",
      "metadata": {
        "trusted": true
      },
      "outputs": [
        {
          "execution_count": 3,
          "output_type": "execute_result",
          "data": {
            "text/plain": "3.3333333333333335"
          },
          "metadata": {}
        }
      ],
      "execution_count": 3
    },
    {
      "cell_type": "markdown",
      "source": "## Auther\nSara Haog Gasmelseed Eisa",
      "metadata": {}
    },
    {
      "cell_type": "code",
      "source": "",
      "metadata": {
        "trusted": true
      },
      "outputs": [],
      "execution_count": null
    }
  ]
}